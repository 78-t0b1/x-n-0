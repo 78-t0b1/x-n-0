{
 "cells": [
  {
   "cell_type": "code",
   "execution_count": 3,
   "metadata": {},
   "outputs": [],
   "source": [
    "from IPython.display import clear_output\n",
    "\n",
    "def display_board(baord):\n",
    "    clear_output()\n",
    "    print(baord[7]+'|'+baord[8]+'|'+baord[9])\n",
    "    print(baord[4]+'|'+baord[5]+'|'+baord[6])\n",
    "    print(baord[1]+'|'+baord[2]+'|'+baord[3])\n",
    "    "
   ]
  },
  {
   "cell_type": "code",
   "execution_count": 6,
   "metadata": {},
   "outputs": [
    {
     "name": "stdout",
     "output_type": "stream",
     "text": [
      "X|O|X\n",
      "O|X|O\n",
      "X|O|X\n"
     ]
    }
   ],
   "source": [
    "test_board = ['#','X','O','X','O','X','O','X','O','X']\n",
    "display_board(test_board)"
   ]
  },
  {
   "cell_type": "code",
   "execution_count": 4,
   "metadata": {},
   "outputs": [],
   "source": [
    "def player_input():\n",
    "    '''OUTPUT IS IN FORM OF TUPLE ABOUT WHICH PLAYER CHOOSE WHICH X OR O '''\n",
    "    \n",
    "    marker =''\n",
    "    \n",
    "    while marker !='X' and marker != 'O':\n",
    "        marker = input('Player1: choose X or O: ').upper()\n",
    "        \n",
    "    if marker =='X':\n",
    "        \n",
    "        return('X','O')\n",
    "    else:\n",
    "        return('O','X')\n",
    "    \n",
    "    \n",
    "        "
   ]
  },
  {
   "cell_type": "code",
   "execution_count": null,
   "metadata": {},
   "outputs": [
    {
     "name": "stdout",
     "output_type": "stream",
     "text": [
      "Player1: choose X or O: \n",
      "Player1: choose X or O: \n",
      "Player1: choose X or O: \n"
     ]
    }
   ],
   "source": [
    "player1_marker,player2_marker=player_input()"
   ]
  },
  {
   "cell_type": "code",
   "execution_count": 4,
   "metadata": {},
   "outputs": [
    {
     "ename": "NameError",
     "evalue": "name 'player1_marker' is not defined",
     "output_type": "error",
     "traceback": [
      "\u001b[1;31m---------------------------------------------------------------------------\u001b[0m",
      "\u001b[1;31mNameError\u001b[0m                                 Traceback (most recent call last)",
      "\u001b[1;32m<ipython-input-4-c7e7869b4db1>\u001b[0m in \u001b[0;36m<module>\u001b[1;34m\u001b[0m\n\u001b[1;32m----> 1\u001b[1;33m \u001b[0mplayer1_marker\u001b[0m\u001b[1;33m\u001b[0m\u001b[1;33m\u001b[0m\u001b[0m\n\u001b[0m",
      "\u001b[1;31mNameError\u001b[0m: name 'player1_marker' is not defined"
     ]
    }
   ],
   "source": [
    "player1_marker\n"
   ]
  },
  {
   "cell_type": "code",
   "execution_count": null,
   "metadata": {},
   "outputs": [],
   "source": [
    "player2_marker\n"
   ]
  },
  {
   "cell_type": "code",
   "execution_count": 5,
   "metadata": {},
   "outputs": [],
   "source": [
    "def place_marker(board,marker,position):\n",
    "    board[position]=marker\n",
    "    "
   ]
  },
  {
   "cell_type": "code",
   "execution_count": 6,
   "metadata": {},
   "outputs": [],
   "source": [
    "def win_check(board,mark):\n",
    "    mark=mark.upper()\n",
    "    return((board[7] == board[8] == board[9] == mark ) or\n",
    "    (board[4] ==board[5] ==board[6] ==mark ) or\n",
    "    (board[1] ==board[2] ==board[3] ==mark ) or\n",
    "    (board[1] ==board[4] ==board[7] ==mark ) or\n",
    "    (board[2] ==board[5] ==board[8] ==mark ) or\n",
    "    (board[3] ==board[6] ==board[9] ==mark ) or\n",
    "    (board[1] ==board[5] ==board[9] ==mark ) or\n",
    "    (board[7] ==board[5] ==board[3] ==mark ) )\n",
    "\n",
    "    \n",
    "    \n",
    "        "
   ]
  },
  {
   "cell_type": "code",
   "execution_count": null,
   "metadata": {},
   "outputs": [],
   "source": [
    "win_check(test_board,'x')"
   ]
  },
  {
   "cell_type": "code",
   "execution_count": 7,
   "metadata": {},
   "outputs": [],
   "source": [
    "import random\n",
    "\n",
    "def choose_first():\n",
    "    \n",
    "    flip=  random.randint(0,1)\n",
    "    \n",
    "    \n",
    "    if flip == 0:\n",
    "        return 'Player 1'\n",
    "    else:\n",
    "        return 'Player 2'\n",
    "    "
   ]
  },
  {
   "cell_type": "code",
   "execution_count": 8,
   "metadata": {},
   "outputs": [],
   "source": [
    "def space_check (board,position):\n",
    "    return board[position] == ' '\n"
   ]
  },
  {
   "cell_type": "code",
   "execution_count": 9,
   "metadata": {},
   "outputs": [],
   "source": [
    "def full_board_check(board):\n",
    "    for i in range(1,10):\n",
    "        if space_check(board,i):\n",
    "            return False\n",
    "        \n",
    "    return True\n"
   ]
  },
  {
   "cell_type": "code",
   "execution_count": 10,
   "metadata": {},
   "outputs": [],
   "source": [
    "def player_choice(board):\n",
    "    \n",
    "    position = 0\n",
    "    \n",
    "    while position not in [1,2,3,4,5,6,7,8,9] or not space_check(board,position):\n",
    "        position = int (input('choose a Position '))\n",
    "        \n",
    "    return position"
   ]
  },
  {
   "cell_type": "code",
   "execution_count": 11,
   "metadata": {},
   "outputs": [],
   "source": [
    "def replay():\n",
    "    \n",
    "    choice = input ('Play again? Y/N ')\n",
    "    \n",
    "    choice = choice.upper()\n",
    "    \n",
    "    return choice == 'Y'"
   ]
  },
  {
   "cell_type": "code",
   "execution_count": 16,
   "metadata": {},
   "outputs": [
    {
     "name": "stdout",
     "output_type": "stream",
     "text": [
      "O| |X\n",
      "X|O| \n",
      "O|X|O\n",
      "Player 2 Won!!!!\n",
      "Play again? Y/N n\n",
      "See you soon... Have a good time\n"
     ]
    }
   ],
   "source": [
    "print ('Welcome to TIC TAC TOE!!!!!')\n",
    "\n",
    "while True:\n",
    "    #PLAY THE GAME\n",
    "    \n",
    "    ## SET UP EVERY THING\n",
    "     \n",
    "    the_board =[' ']*10\n",
    "    turn= choose_first()\n",
    "    print(turn+' will go first')\n",
    "    player1_marker,player2_marker = player_input()\n",
    "    \n",
    "   \n",
    "    gameon = True\n",
    "    \n",
    "    while gameon:\n",
    "        if turn == 'Player 1':\n",
    "            #Show the board\n",
    "            display_board(the_board)\n",
    "            #choose a position \n",
    "            position=player_choice(the_board)\n",
    "            #Place marker on position \n",
    "            place_marker(the_board,player1_marker,position)\n",
    "            #Check if they won\n",
    "            if win_check(the_board,player1_marker) :\n",
    "                display_board(the_board)\n",
    "                print('Player 1 Won!!!!')\n",
    "                gameon = False\n",
    "                break\n",
    "            # Or check there is a tie \n",
    "            else :\n",
    "                if full_board_check(the_board) == True:\n",
    "                    display_board(the_board)\n",
    "                    print ('Its a tie!!!')\n",
    "                    gameon = False\n",
    "                    break\n",
    "                 #No then next players turn\n",
    "                else:\n",
    "                    display_board(the_board)\n",
    "                    turn = 'Player 2'\n",
    "\n",
    "\n",
    "\n",
    "\n",
    "\n",
    "        else :\n",
    "            #Show the board\n",
    "            display_board(the_board)\n",
    "            #choose a position \n",
    "            x=player_choice(the_board)\n",
    "            #Place marker on position \n",
    "            place_marker(the_board,player2_marker,x)\n",
    "            #Check if they won\n",
    "            if win_check(the_board,player2_marker) == True:\n",
    "                display_board(the_board)\n",
    "                print('Player 2 Won!!!!')\n",
    "                gameon = False\n",
    "                break\n",
    "            # Or check there is a tie \n",
    "            else:\n",
    "                if full_board_check(the_board) == True:\n",
    "                    display_board(the_board)\n",
    "\n",
    "                    print ('Its a tie!!!')\n",
    "                    gameon = False\n",
    "                    break\n",
    "                 #No then next players turn\n",
    "                else:\n",
    "                    display_board(the_board)\n",
    "                    turn = 'Player 1'\n",
    "    \n",
    "    \n",
    "    if not replay():\n",
    "        print ('See you soon... Have a good time')\n",
    "        break\n",
    "    # BREAK OUT OF THE WHILE LOOP i.e BREAK OUT OF THE GAME"
   ]
  },
  {
   "cell_type": "code",
   "execution_count": null,
   "metadata": {},
   "outputs": [],
   "source": []
  },
  {
   "cell_type": "code",
   "execution_count": null,
   "metadata": {},
   "outputs": [],
   "source": []
  },
  {
   "cell_type": "code",
   "execution_count": null,
   "metadata": {},
   "outputs": [],
   "source": []
  }
 ],
 "metadata": {
  "kernelspec": {
   "display_name": "Python 3",
   "language": "python",
   "name": "python3"
  }
 },
 "nbformat": 4,
 "nbformat_minor": 2
}
